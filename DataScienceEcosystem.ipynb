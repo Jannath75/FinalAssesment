{
 "cells": [
  {
   "cell_type": "markdown",
   "id": "ab8f922b-8503-4dbc-b339-d2142e827118",
   "metadata": {},
   "source": [
    "# Data Science Tools and Ecosystem"
   ]
  },
  {
   "cell_type": "markdown",
   "id": "3e30d9e3-b0f8-4e21-bf8f-1b6e9c3ad628",
   "metadata": {},
   "source": [
    "In this notebook, Data Science Tools and Ecosystem are summarized."
   ]
  },
  {
   "cell_type": "markdown",
   "id": "242516b1-16ab-469c-960e-f29d952991bf",
   "metadata": {},
   "source": [
    "**Objectives:**\n",
    " - List popular languages for Data Science\n",
    " - List commonly used libraries in Data Science\n",
    " - List Data Science tools"
   ]
  },
  {
   "cell_type": "markdown",
   "id": "e74768f8-3e6a-457a-b80d-8797094ab973",
   "metadata": {},
   "source": [
    "Some of the popular languages that Data Scientists use are:\n",
    "  1. Python\n",
    "  2. R\n",
    "  3. Julia"
   ]
  },
  {
   "cell_type": "markdown",
   "id": "264aefa1-7064-49f2-a5e1-f621a8192a16",
   "metadata": {},
   "source": [
    "Some of the commonly used libraries used by Data Scientists include:\n",
    " 1. Matplotlib\n",
    " 2. NumPy\n",
    " 3. Pandas"
   ]
  },
  {
   "cell_type": "markdown",
   "id": "06b5527f-b19e-4398-a043-7337cfaeca46",
   "metadata": {
    "tags": []
   },
   "source": [
    "| Data Science Tools |\n",
    "| ------------------ |\n",
    "| Jupyter Notebook   |\n",
    "| R Studio           |\n",
    "| Zeppelin Notebook  |"
   ]
  },
  {
   "cell_type": "markdown",
   "id": "74ddd70a-060f-4ea8-911a-aabf7932dbe3",
   "metadata": {},
   "source": [
    "### Below are a few examples of evaluating arithmetic expressions in Python."
   ]
  },
  {
   "cell_type": "code",
   "execution_count": 2,
   "id": "fca704c0-b8f8-4ebc-b2fc-e600e1106d35",
   "metadata": {
    "tags": []
   },
   "outputs": [
    {
     "data": {
      "text/plain": [
       "17"
      ]
     },
     "execution_count": 2,
     "metadata": {},
     "output_type": "execute_result"
    }
   ],
   "source": [
    "# This is a simple arithmetic expression to multiply then add integers.\n",
    "(3*4)+5"
   ]
  },
  {
   "cell_type": "code",
   "execution_count": 3,
   "id": "c508fa9e-9dfb-453d-910a-1b42740b6e45",
   "metadata": {
    "tags": []
   },
   "outputs": [
    {
     "data": {
      "text/plain": [
       "3.3333333333333335"
      ]
     },
     "execution_count": 3,
     "metadata": {},
     "output_type": "execute_result"
    }
   ],
   "source": [
    "# This will convert 200 minutes to hours by diving by 60.\n",
    "200/60"
   ]
  },
  {
   "cell_type": "markdown",
   "id": "8dad9074-f586-4cb3-9250-2654ab9c7f5c",
   "metadata": {},
   "source": [
    "## Author\n",
    "Jannath"
   ]
  },
  {
   "cell_type": "code",
   "execution_count": null,
   "id": "fb465ebc-259b-44fb-ad3f-3f158f0f3b10",
   "metadata": {},
   "outputs": [],
   "source": []
  }
 ],
 "metadata": {
  "kernelspec": {
   "display_name": "Python",
   "language": "python",
   "name": "conda-env-python-py"
  },
  "language_info": {
   "codemirror_mode": {
    "name": "ipython",
    "version": 3
   },
   "file_extension": ".py",
   "mimetype": "text/x-python",
   "name": "python",
   "nbconvert_exporter": "python",
   "pygments_lexer": "ipython3",
   "version": "3.7.12"
  }
 },
 "nbformat": 4,
 "nbformat_minor": 5
}
